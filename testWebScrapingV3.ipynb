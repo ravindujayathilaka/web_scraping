{
 "cells": [
  {
   "cell_type": "code",
   "execution_count": 4,
   "id": "e6275a31-c790-410b-84e1-295c96c6deb9",
   "metadata": {},
   "outputs": [
    {
     "name": "stdout",
     "output_type": "stream",
     "text": [
      "Requirement already satisfied: selenium in c:\\users\\asus\\appdata\\local\\programs\\python\\python311\\lib\\site-packages (4.14.0)\n",
      "Requirement already satisfied: urllib3[socks]<3,>=1.26 in c:\\users\\asus\\appdata\\local\\programs\\python\\python311\\lib\\site-packages (from selenium) (1.26.16)\n",
      "Requirement already satisfied: trio~=0.17 in c:\\users\\asus\\appdata\\local\\programs\\python\\python311\\lib\\site-packages (from selenium) (0.22.2)\n",
      "Requirement already satisfied: trio-websocket~=0.9 in c:\\users\\asus\\appdata\\local\\programs\\python\\python311\\lib\\site-packages (from selenium) (0.11.1)\n",
      "Requirement already satisfied: certifi>=2021.10.8 in c:\\users\\asus\\appdata\\local\\programs\\python\\python311\\lib\\site-packages (from selenium) (2023.7.22)\n",
      "Requirement already satisfied: attrs>=20.1.0 in c:\\users\\asus\\appdata\\local\\programs\\python\\python311\\lib\\site-packages (from trio~=0.17->selenium) (23.1.0)\n",
      "Requirement already satisfied: sortedcontainers in c:\\users\\asus\\appdata\\local\\programs\\python\\python311\\lib\\site-packages (from trio~=0.17->selenium) (2.4.0)\n",
      "Requirement already satisfied: idna in c:\\users\\asus\\appdata\\local\\programs\\python\\python311\\lib\\site-packages (from trio~=0.17->selenium) (3.4)\n",
      "Requirement already satisfied: outcome in c:\\users\\asus\\appdata\\local\\programs\\python\\python311\\lib\\site-packages (from trio~=0.17->selenium) (1.2.0)\n",
      "Requirement already satisfied: sniffio in c:\\users\\asus\\appdata\\local\\programs\\python\\python311\\lib\\site-packages (from trio~=0.17->selenium) (1.3.0)\n",
      "Requirement already satisfied: cffi>=1.14 in c:\\users\\asus\\appdata\\local\\programs\\python\\python311\\lib\\site-packages (from trio~=0.17->selenium) (1.15.1)\n",
      "Requirement already satisfied: wsproto>=0.14 in c:\\users\\asus\\appdata\\local\\programs\\python\\python311\\lib\\site-packages (from trio-websocket~=0.9->selenium) (1.2.0)\n",
      "Requirement already satisfied: PySocks!=1.5.7,<2.0,>=1.5.6 in c:\\users\\asus\\appdata\\local\\programs\\python\\python311\\lib\\site-packages (from urllib3[socks]<3,>=1.26->selenium) (1.7.1)\n",
      "Requirement already satisfied: pycparser in c:\\users\\asus\\appdata\\local\\programs\\python\\python311\\lib\\site-packages (from cffi>=1.14->trio~=0.17->selenium) (2.21)\n",
      "Requirement already satisfied: h11<1,>=0.9.0 in c:\\users\\asus\\appdata\\local\\programs\\python\\python311\\lib\\site-packages (from wsproto>=0.14->trio-websocket~=0.9->selenium) (0.14.0)\n",
      "Note: you may need to restart the kernel to use updated packages.\n"
     ]
    },
    {
     "name": "stderr",
     "output_type": "stream",
     "text": [
      "\n",
      "[notice] A new release of pip is available: 23.2.1 -> 23.3\n",
      "[notice] To update, run: python.exe -m pip install --upgrade pip\n"
     ]
    }
   ],
   "source": [
    "pip install selenium"
   ]
  },
  {
   "cell_type": "code",
   "execution_count": 5,
   "id": "229a3f0b-21e2-4659-8007-7108319738c9",
   "metadata": {},
   "outputs": [],
   "source": [
    "# import libraries\n",
    "from bs4 import BeautifulSoup\n",
    "import numpy as np\n",
    "from time import sleep\n",
    "from random import randint\n",
    "from selenium import webdriver"
   ]
  },
  {
   "cell_type": "code",
   "execution_count": 7,
   "id": "475fa967-b4c4-435c-8184-322ac26daf6f",
   "metadata": {},
   "outputs": [
    {
     "name": "stdout",
     "output_type": "stream",
     "text": [
      "['Sextuplets in Colombo : Warning over unethical fertility treatment', 'President urges Beijing to invest in Sri Lanka', '29-year-old killed in Kirulapone: Brother arrested', '\"The 3 Sri Lankan families in Palestine are safe.\"', 'SJB MP seeks protection from Defence Secretary', 'Now you can apply to become a member of the Bribery Commission', \"US recognizes Sri Lanka's right to assert its own aspirations\", \"'The Philosophy of Symbolism', in relation to caricature & art in modern communication.\", \"Two Faculties of Wayamba University closed following student's death - DailyNews\", 'HRCSL to launch guidelines on protection of human rights defenders', \"Monk, officials accused of disregarding President's orders\", 'CHILDREN IN HUNGER: 56,000 Sri Lankan children face severe malnutrition, reveals report', 'Members of the ‘Friends of Free Palestine’ group held a protest in front of the United Nations Sri Lanka office in Colombo yesterday', 'Couple arrested for beating girl in Kandana - DailyNews', 'Hayleys Group CFO Milinda Hewagama appointed to UN Global Compact Network Sri Lanka Board - Business', 'Government insists no move to resume QR system for fuel', 'CDB takes lead to accelerate sustainable mobility in partnership with CodeGen - Business', 'Indonesian Naval Ship in Colombo Port - DailyNews', 'Severe staff shortages: X-Ray services disrupted in 6 Sri Lankan hospitals', 'Sri Lanka Weather : Five key updates', 'Colombo Magistrate orders remains of Dinesh Schaffter be buried', 'Ali Zahir Moulana Seiyad takes oaths as an MP', \"Access Int'l partners Enterprise Analytics implements Acumatica cloud ERP - DailyNews\", 'Over 1 million SMEs to go digital and drive USD 15 billion digital economy by 2030', 'Commercial Credit and Finance to acquire 20% stake in Mega Pay for Rs.180mn - Business News', 'Wanted suspect killed in Police shootout', 'Risky to reopen right lanes of Southern Expressway section - RDA', 'Indonesia ready to discuss preferential trade deal with Sri Lanka', 'National Youth Drama Festival begins today - DailyNews', 'HaulMatic set to revolutionize SL’s transport landscape - Business', 'ETF Board to award scholarships for vocational training', \"'Ten Million Trees' from TV Derana to mark 18th anniversary\", 'More showers expected today (13)', \"Dramatic Turn of Events: Handcuffed Suspect's Deadly Escape Attempt Shocks Police\", 'Dialog Enterprise and Rotary Club of Colombo Metropolitan Rotary Par 3 Golf Classic in 2023 Results', 'Soldier remanded for embezzling Rs.9.4 Mn from engineer - DailyNews', 'HNB General Insurance’s MotorGuard ‘03 in 01’ creates hype with island-wide activations - Business', \"Sri Lanka : Colombo Fort Magistrate's Court registrar remanded till 25 October\", 'Two lanes of Southern Expressway to be reopened for traffic today', 'Sri Lanka : GMOA presents eight-step proposal to President addressing healthcare challenges and brain drain', 'Skilled jobs for 3 sectors in Japan : SL signs new agreement', 'NBRO identifies 14,200 houses and buildings in high-risk zones', \"Grand finale of 'Chathurmaana' showcases Undergraduate Talent - DailyNews\", 'Rajiv murder convict appeals to Ranil to bring him home', 'Sri Lanka : PM advises Urban Development Authority to prepare city plans without inconveniencing the public', 'Mt. Lavinia Hotel Group’s new COO Anura Dewapura shares vision for transformation', '09 Iranians sentenced to life by Colombo court', 'Sri Lanka : Sri Lanka Navy arrests 27 Indian fishermen illegally fishing in island waters', 'LSUS raises concerns over hijab checks at Law College entrance exam', 'Eye disease spreading in Sri Lanka, health officials urge public to take precautions', 'Use of antibiotic temporarily withdrawn after patient death at Gampaha Hospital', 'Holy Cross Gampaha excel in Taekwondo - DailyNews', 'Glitz Park in Gampaha marked a milestone by becoming the largest multi-brand service centre in the region', 'Twelve-hour water cut in Gampaha today', \"U-19 women's SL team for World Cup named : 4 students from Gampaha Rathnavali\", 'Vision Care’s branch expansion continues with new Gampaha branch', \"'Ice' drugs found inside school canteen in Gampaha\", 'Sextuplets in Colombo : Warning over unethical fertility treatment', 'President urges Beijing to invest in Sri Lanka', '29-year-old killed in Kirulapone: Brother arrested', '\"The 3 Sri Lankan families in Palestine are safe.\"', 'SJB MP seeks protection from Defence Secretary', 'Now you can apply to become a member of the Bribery Commission', \"US recognizes Sri Lanka's right to assert its own aspirations\", \"'The Philosophy of Symbolism', in relation to caricature & art in modern communication.\", \"Two Faculties of Wayamba University closed following student's death - DailyNews\", 'HRCSL to launch guidelines on protection of human rights defenders', \"Monk, officials accused of disregarding President's orders\", 'CHILDREN IN HUNGER: 56,000 Sri Lankan children face severe malnutrition, reveals report', 'Members of the ‘Friends of Free Palestine’ group held a protest in front of the United Nations Sri Lanka office in Colombo yesterday', 'Couple arrested for beating girl in Kandana - DailyNews', 'Hayleys Group CFO Milinda Hewagama appointed to UN Global Compact Network Sri Lanka Board - Business', 'Government insists no move to resume QR system for fuel', 'CDB takes lead to accelerate sustainable mobility in partnership with CodeGen - Business', 'Indonesian Naval Ship in Colombo Port - DailyNews', 'Severe staff shortages: X-Ray services disrupted in 6 Sri Lankan hospitals', 'Sri Lanka Weather : Five key updates', 'Colombo Magistrate orders remains of Dinesh Schaffter be buried', 'Ali Zahir Moulana Seiyad takes oaths as an MP', \"Access Int'l partners Enterprise Analytics implements Acumatica cloud ERP - DailyNews\", 'Over 1 million SMEs to go digital and drive USD 15 billion digital economy by 2030', 'Commercial Credit and Finance to acquire 20% stake in Mega Pay for Rs.180mn - Business News', 'Wanted suspect killed in Police shootout', 'Risky to reopen right lanes of Southern Expressway section - RDA', 'Indonesia ready to discuss preferential trade deal with Sri Lanka', 'National Youth Drama Festival begins today - DailyNews', 'HaulMatic set to revolutionize SL’s transport landscape - Business', 'ETF Board to award scholarships for vocational training', \"'Ten Million Trees' from TV Derana to mark 18th anniversary\", 'Sri Lanka : GMOA presents eight-step proposal to President addressing healthcare challenges and brain drain', \"Dramatic Turn of Events: Handcuffed Suspect's Deadly Escape Attempt Shocks Police\", 'Dialog Enterprise and Rotary Club of Colombo Metropolitan Rotary Par 3 Golf Classic in 2023 Results', 'Soldier remanded for embezzling Rs.9.4 Mn from engineer - DailyNews', 'HNB General Insurance’s MotorGuard ‘03 in 01’ creates hype with island-wide activations - Business', \"Sri Lanka : Colombo Fort Magistrate's Court registrar remanded till 25 October\", 'Two lanes of Southern Expressway to be reopened for traffic today', 'Skilled jobs for 3 sectors in Japan : SL signs new agreement', 'Sri Lanka : PM advises Urban Development Authority to prepare city plans without inconveniencing the public', 'NBRO identifies 14,200 houses and buildings in high-risk zones', \"Grand finale of 'Chathurmaana' showcases Undergraduate Talent - DailyNews\", 'Rajiv murder convict appeals to Ranil to bring him home', 'Mt. Lavinia Hotel Group’s new COO Anura Dewapura shares vision for transformation', \"Sri Lanka : Seylan Cards and Halo flights present return air tickets to winner of August's Swipe and Win draw\", '09 Iranians sentenced to life by Colombo court', 'LSUS raises concerns over hijab checks at Law College entrance exam', 'Up-country train services disrupted - DailyNews', 'Eye disease spreading in Sri Lanka, health officials urge public to take precautions', 'Use of antibiotic temporarily withdrawn after patient death at Gampaha Hospital', 'Holy Cross Gampaha excel in Taekwondo - DailyNews', 'Glitz Park in Gampaha marked a milestone by becoming the largest multi-brand service centre in the region', 'Twelve-hour water cut in Gampaha today', \"U-19 women's SL team for World Cup named : 4 students from Gampaha Rathnavali\", 'Vision Care’s branch expansion continues with new Gampaha branch', \"'Ice' drugs found inside school canteen in Gampaha\"]\n"
     ]
    }
   ],
   "source": [
    "#Loop to go over all pages\n",
    "pages = np.arange(1, 3, 1)\n",
    "data=[]\n",
    "\n",
    "for page in pages:\n",
    "    \n",
    "    page=\"https://news.google.com/topics/CAAqHAgKIhZDQklTQ2pvSWJHOWpZV3hmZGpJb0FBUAE/sections/CAQiUENCSVNOam9JYkc5allXeGZkakpDRUd4dlkyRnNYM1l5WDNObFkzUnBiMjV5Q3hJSkwyMHZNRGsyTTJvMWVnc0tDUzl0THpBNU5qTnFOU2dBKjEIACotCAoiJ0NCSVNGem9JYkc5allXeGZkako2Q3dvSkwyMHZNRGsyTTJvMUtBQVABUAE?hl=en-US&gl=US&ceid=US%3Aen\" + str(page) \n",
    "    driver = webdriver.Chrome()\n",
    "    driver.get(page)  \n",
    "    sleep(randint(2,10))\n",
    "    soup = BeautifulSoup(driver.page_source, 'html.parser')\n",
    "    my_table = soup.find_all(class_=['JtKRv'])\n",
    "\n",
    "    for tag in my_table:\n",
    "        data.append(tag.get_text())\n",
    "\n",
    "print(data)"
   ]
  },
  {
   "cell_type": "code",
   "execution_count": 11,
   "id": "87992dea-04c4-4b18-a4ca-721b9ff6c391",
   "metadata": {},
   "outputs": [
    {
     "name": "stdout",
     "output_type": "stream",
     "text": [
      "<class 'list'>\n"
     ]
    }
   ],
   "source": [
    "print(type(data))"
   ]
  },
  {
   "cell_type": "code",
   "execution_count": 12,
   "id": "c37caac3-f719-4241-a423-07f9da2ace2a",
   "metadata": {},
   "outputs": [
    {
     "name": "stdout",
     "output_type": "stream",
     "text": [
      "['Sextuplets in Colombo : Warning over unethical fertility treatment'\n",
      " 'President urges Beijing to invest in Sri Lanka'\n",
      " '29-year-old killed in Kirulapone: Brother arrested'\n",
      " '\"The 3 Sri Lankan families in Palestine are safe.\"'\n",
      " 'SJB MP seeks protection from Defence Secretary'\n",
      " 'Now you can apply to become a member of the Bribery Commission'\n",
      " \"US recognizes Sri Lanka's right to assert its own aspirations\"\n",
      " \"'The Philosophy of Symbolism', in relation to caricature & art in modern communication.\"\n",
      " \"Two Faculties of Wayamba University closed following student's death - DailyNews\"\n",
      " 'HRCSL to launch guidelines on protection of human rights defenders'\n",
      " \"Monk, officials accused of disregarding President's orders\"\n",
      " 'CHILDREN IN HUNGER: 56,000 Sri Lankan children face severe malnutrition, reveals report'\n",
      " 'Members of the ‘Friends of Free Palestine’ group held a protest in front of the United Nations Sri Lanka office in Colombo yesterday'\n",
      " 'Couple arrested for beating girl in Kandana - DailyNews'\n",
      " 'Hayleys Group CFO Milinda Hewagama appointed to UN Global Compact Network Sri Lanka Board - Business'\n",
      " 'Government insists no move to resume QR system for fuel'\n",
      " 'CDB takes lead to accelerate sustainable mobility in partnership with CodeGen - Business'\n",
      " 'Indonesian Naval Ship in Colombo Port - DailyNews'\n",
      " 'Severe staff shortages: X-Ray services disrupted in 6 Sri Lankan hospitals'\n",
      " 'Sri Lanka Weather : Five key updates'\n",
      " 'Colombo Magistrate orders remains of Dinesh Schaffter be buried'\n",
      " 'Ali Zahir Moulana Seiyad takes oaths as an MP'\n",
      " \"Access Int'l partners Enterprise Analytics implements Acumatica cloud ERP - DailyNews\"\n",
      " 'Over 1 million SMEs to go digital and drive USD 15 billion digital economy by 2030'\n",
      " 'Commercial Credit and Finance to acquire 20% stake in Mega Pay for Rs.180mn - Business News'\n",
      " 'Wanted suspect killed in Police shootout'\n",
      " 'Risky to reopen right lanes of Southern Expressway section - RDA'\n",
      " 'Indonesia ready to discuss preferential trade deal with Sri Lanka'\n",
      " 'National Youth Drama Festival begins today - DailyNews'\n",
      " 'HaulMatic set to revolutionize SL’s transport landscape - Business'\n",
      " 'ETF Board to award scholarships for vocational training'\n",
      " \"'Ten Million Trees' from TV Derana to mark 18th anniversary\"\n",
      " 'More showers expected today (13)'\n",
      " \"Dramatic Turn of Events: Handcuffed Suspect's Deadly Escape Attempt Shocks Police\"\n",
      " 'Dialog Enterprise and Rotary Club of Colombo Metropolitan Rotary Par 3 Golf Classic in 2023 Results'\n",
      " 'Soldier remanded for embezzling Rs.9.4 Mn from engineer - DailyNews'\n",
      " 'HNB General Insurance’s MotorGuard ‘03 in 01’ creates hype with island-wide activations - Business'\n",
      " \"Sri Lanka : Colombo Fort Magistrate's Court registrar remanded till 25 October\"\n",
      " 'Two lanes of Southern Expressway to be reopened for traffic today'\n",
      " 'Sri Lanka : GMOA presents eight-step proposal to President addressing healthcare challenges and brain drain'\n",
      " 'Skilled jobs for 3 sectors in Japan : SL signs new agreement'\n",
      " 'NBRO identifies 14,200 houses and buildings in high-risk zones'\n",
      " \"Grand finale of 'Chathurmaana' showcases Undergraduate Talent - DailyNews\"\n",
      " 'Rajiv murder convict appeals to Ranil to bring him home'\n",
      " 'Sri Lanka : PM advises Urban Development Authority to prepare city plans without inconveniencing the public'\n",
      " 'Mt. Lavinia Hotel Group’s new COO Anura Dewapura shares vision for transformation'\n",
      " '09 Iranians sentenced to life by Colombo court'\n",
      " 'Sri Lanka : Sri Lanka Navy arrests 27 Indian fishermen illegally fishing in island waters'\n",
      " 'LSUS raises concerns over hijab checks at Law College entrance exam'\n",
      " 'Eye disease spreading in Sri Lanka, health officials urge public to take precautions'\n",
      " 'Use of antibiotic temporarily withdrawn after patient death at Gampaha Hospital'\n",
      " 'Holy Cross Gampaha excel in Taekwondo - DailyNews'\n",
      " 'Glitz Park in Gampaha marked a milestone by becoming the largest multi-brand service centre in the region'\n",
      " 'Twelve-hour water cut in Gampaha today'\n",
      " \"U-19 women's SL team for World Cup named : 4 students from Gampaha Rathnavali\"\n",
      " 'Vision Care’s branch expansion continues with new Gampaha branch'\n",
      " \"'Ice' drugs found inside school canteen in Gampaha\"\n",
      " 'Sextuplets in Colombo : Warning over unethical fertility treatment'\n",
      " 'President urges Beijing to invest in Sri Lanka'\n",
      " '29-year-old killed in Kirulapone: Brother arrested'\n",
      " '\"The 3 Sri Lankan families in Palestine are safe.\"'\n",
      " 'SJB MP seeks protection from Defence Secretary'\n",
      " 'Now you can apply to become a member of the Bribery Commission'\n",
      " \"US recognizes Sri Lanka's right to assert its own aspirations\"\n",
      " \"'The Philosophy of Symbolism', in relation to caricature & art in modern communication.\"\n",
      " \"Two Faculties of Wayamba University closed following student's death - DailyNews\"\n",
      " 'HRCSL to launch guidelines on protection of human rights defenders'\n",
      " \"Monk, officials accused of disregarding President's orders\"\n",
      " 'CHILDREN IN HUNGER: 56,000 Sri Lankan children face severe malnutrition, reveals report'\n",
      " 'Members of the ‘Friends of Free Palestine’ group held a protest in front of the United Nations Sri Lanka office in Colombo yesterday'\n",
      " 'Couple arrested for beating girl in Kandana - DailyNews'\n",
      " 'Hayleys Group CFO Milinda Hewagama appointed to UN Global Compact Network Sri Lanka Board - Business'\n",
      " 'Government insists no move to resume QR system for fuel'\n",
      " 'CDB takes lead to accelerate sustainable mobility in partnership with CodeGen - Business'\n",
      " 'Indonesian Naval Ship in Colombo Port - DailyNews'\n",
      " 'Severe staff shortages: X-Ray services disrupted in 6 Sri Lankan hospitals'\n",
      " 'Sri Lanka Weather : Five key updates'\n",
      " 'Colombo Magistrate orders remains of Dinesh Schaffter be buried'\n",
      " 'Ali Zahir Moulana Seiyad takes oaths as an MP'\n",
      " \"Access Int'l partners Enterprise Analytics implements Acumatica cloud ERP - DailyNews\"\n",
      " 'Over 1 million SMEs to go digital and drive USD 15 billion digital economy by 2030'\n",
      " 'Commercial Credit and Finance to acquire 20% stake in Mega Pay for Rs.180mn - Business News'\n",
      " 'Wanted suspect killed in Police shootout'\n",
      " 'Risky to reopen right lanes of Southern Expressway section - RDA'\n",
      " 'Indonesia ready to discuss preferential trade deal with Sri Lanka'\n",
      " 'National Youth Drama Festival begins today - DailyNews'\n",
      " 'HaulMatic set to revolutionize SL’s transport landscape - Business'\n",
      " 'ETF Board to award scholarships for vocational training'\n",
      " \"'Ten Million Trees' from TV Derana to mark 18th anniversary\"\n",
      " 'Sri Lanka : GMOA presents eight-step proposal to President addressing healthcare challenges and brain drain'\n",
      " \"Dramatic Turn of Events: Handcuffed Suspect's Deadly Escape Attempt Shocks Police\"\n",
      " 'Dialog Enterprise and Rotary Club of Colombo Metropolitan Rotary Par 3 Golf Classic in 2023 Results'\n",
      " 'Soldier remanded for embezzling Rs.9.4 Mn from engineer - DailyNews'\n",
      " 'HNB General Insurance’s MotorGuard ‘03 in 01’ creates hype with island-wide activations - Business'\n",
      " \"Sri Lanka : Colombo Fort Magistrate's Court registrar remanded till 25 October\"\n",
      " 'Two lanes of Southern Expressway to be reopened for traffic today'\n",
      " 'Skilled jobs for 3 sectors in Japan : SL signs new agreement'\n",
      " 'Sri Lanka : PM advises Urban Development Authority to prepare city plans without inconveniencing the public'\n",
      " 'NBRO identifies 14,200 houses and buildings in high-risk zones'\n",
      " \"Grand finale of 'Chathurmaana' showcases Undergraduate Talent - DailyNews\"\n",
      " 'Rajiv murder convict appeals to Ranil to bring him home'\n",
      " 'Mt. Lavinia Hotel Group’s new COO Anura Dewapura shares vision for transformation'\n",
      " \"Sri Lanka : Seylan Cards and Halo flights present return air tickets to winner of August's Swipe and Win draw\"\n",
      " '09 Iranians sentenced to life by Colombo court'\n",
      " 'LSUS raises concerns over hijab checks at Law College entrance exam'\n",
      " 'Up-country train services disrupted - DailyNews'\n",
      " 'Eye disease spreading in Sri Lanka, health officials urge public to take precautions'\n",
      " 'Use of antibiotic temporarily withdrawn after patient death at Gampaha Hospital'\n",
      " 'Holy Cross Gampaha excel in Taekwondo - DailyNews'\n",
      " 'Glitz Park in Gampaha marked a milestone by becoming the largest multi-brand service centre in the region'\n",
      " 'Twelve-hour water cut in Gampaha today'\n",
      " \"U-19 women's SL team for World Cup named : 4 students from Gampaha Rathnavali\"\n",
      " 'Vision Care’s branch expansion continues with new Gampaha branch'\n",
      " \"'Ice' drugs found inside school canteen in Gampaha\"]\n"
     ]
    }
   ],
   "source": [
    "title_array = np.array(data)\n",
    "print(title_array)"
   ]
  }
 ],
 "metadata": {
  "kernelspec": {
   "display_name": "Python 3 (ipykernel)",
   "language": "python",
   "name": "python3"
  },
  "language_info": {
   "codemirror_mode": {
    "name": "ipython",
    "version": 3
   },
   "file_extension": ".py",
   "mimetype": "text/x-python",
   "name": "python",
   "nbconvert_exporter": "python",
   "pygments_lexer": "ipython3",
   "version": "3.11.0"
  }
 },
 "nbformat": 4,
 "nbformat_minor": 5
}
