{
 "cells": [
  {
   "cell_type": "code",
   "execution_count": 1,
   "id": "74cbfdb5-a4a5-4b8d-89a4-ad956b623e35",
   "metadata": {},
   "outputs": [
    {
     "name": "stdout",
     "output_type": "stream",
     "text": [
      "Requirement already satisfied: selenium in c:\\users\\asus\\appdata\\local\\programs\\python\\python311\\lib\\site-packages (4.14.0)\n",
      "Requirement already satisfied: urllib3[socks]<3,>=1.26 in c:\\users\\asus\\appdata\\local\\programs\\python\\python311\\lib\\site-packages (from selenium) (1.26.16)\n",
      "Requirement already satisfied: trio~=0.17 in c:\\users\\asus\\appdata\\local\\programs\\python\\python311\\lib\\site-packages (from selenium) (0.22.2)\n",
      "Requirement already satisfied: trio-websocket~=0.9 in c:\\users\\asus\\appdata\\local\\programs\\python\\python311\\lib\\site-packages (from selenium) (0.11.1)\n",
      "Requirement already satisfied: certifi>=2021.10.8 in c:\\users\\asus\\appdata\\local\\programs\\python\\python311\\lib\\site-packages (from selenium) (2023.7.22)\n",
      "Requirement already satisfied: attrs>=20.1.0 in c:\\users\\asus\\appdata\\local\\programs\\python\\python311\\lib\\site-packages (from trio~=0.17->selenium) (23.1.0)\n",
      "Requirement already satisfied: sortedcontainers in c:\\users\\asus\\appdata\\local\\programs\\python\\python311\\lib\\site-packages (from trio~=0.17->selenium) (2.4.0)\n",
      "Requirement already satisfied: idna in c:\\users\\asus\\appdata\\local\\programs\\python\\python311\\lib\\site-packages (from trio~=0.17->selenium) (3.4)\n",
      "Requirement already satisfied: outcome in c:\\users\\asus\\appdata\\local\\programs\\python\\python311\\lib\\site-packages (from trio~=0.17->selenium) (1.2.0)\n",
      "Requirement already satisfied: sniffio in c:\\users\\asus\\appdata\\local\\programs\\python\\python311\\lib\\site-packages (from trio~=0.17->selenium) (1.3.0)\n",
      "Requirement already satisfied: cffi>=1.14 in c:\\users\\asus\\appdata\\local\\programs\\python\\python311\\lib\\site-packages (from trio~=0.17->selenium) (1.15.1)\n",
      "Requirement already satisfied: wsproto>=0.14 in c:\\users\\asus\\appdata\\local\\programs\\python\\python311\\lib\\site-packages (from trio-websocket~=0.9->selenium) (1.2.0)\n",
      "Requirement already satisfied: PySocks!=1.5.7,<2.0,>=1.5.6 in c:\\users\\asus\\appdata\\local\\programs\\python\\python311\\lib\\site-packages (from urllib3[socks]<3,>=1.26->selenium) (1.7.1)\n",
      "Requirement already satisfied: pycparser in c:\\users\\asus\\appdata\\local\\programs\\python\\python311\\lib\\site-packages (from cffi>=1.14->trio~=0.17->selenium) (2.21)\n",
      "Requirement already satisfied: h11<1,>=0.9.0 in c:\\users\\asus\\appdata\\local\\programs\\python\\python311\\lib\\site-packages (from wsproto>=0.14->trio-websocket~=0.9->selenium) (0.14.0)\n",
      "Note: you may need to restart the kernel to use updated packages.\n"
     ]
    },
    {
     "name": "stderr",
     "output_type": "stream",
     "text": [
      "\n",
      "[notice] A new release of pip is available: 23.2.1 -> 23.3\n",
      "[notice] To update, run: python.exe -m pip install --upgrade pip\n"
     ]
    }
   ],
   "source": [
    "pip install selenium"
   ]
  },
  {
   "cell_type": "code",
   "execution_count": 2,
   "id": "d33a27ed-1bb5-4566-951c-2f119af49a70",
   "metadata": {},
   "outputs": [],
   "source": [
    "# import libraries\n",
    "from bs4 import BeautifulSoup\n",
    "import numpy as np\n",
    "from time import sleep\n",
    "from random import randint\n",
    "from selenium import webdriver"
   ]
  },
  {
   "cell_type": "code",
   "execution_count": 3,
   "id": "805fc0e8-b767-4d0c-8536-a99d9d5ffe8e",
   "metadata": {},
   "outputs": [],
   "source": [
    "link1 = \"https://www.dailynews.lk/2023/10/20/lawnorder/180441/harak-kata-salindu-allowed-food-drinks-from-supermarket/\""
   ]
  },
  {
   "cell_type": "code",
   "execution_count": 8,
   "id": "af8d2396-af66-4570-9d33-7b9b6bce6204",
   "metadata": {},
   "outputs": [
    {
     "name": "stdout",
     "output_type": "stream",
     "text": [
      "[[<p><strong>Colombo Fort Magistrate Thilina Gamage granted permission to drug traffickers and organized criminals Nadun Chinthaka Wickramaratne alias “Harak Kata” and Salindu Malshika alias ‘Panadure Kudu Salindu’ who are detained in the Criminal Investigation Department to get food and drinks from a supermarket.</strong></p>, <p>The magistrate issued this order after considering a motion filed by the lawyers on behalf of the suspects Nandun Chinthaka and Salindu Malshaka before court.Court ordered that an officer nominated by the officer in charge of the place where the suspect is held, arrange to get the food and drinks.</p>, <p>The Magistrate issued this order considering the request made by attorneys Sanjay Ariyadasa and Jaliya Samarasinghe, who appeared on behalf of the suspects, as the food provided by the Criminal Investigation Department is not sufficient for them.</p>, <p>These two suspects, who are large-scale drug smugglers and organised criminals, were arrested by the Madagascar security forces and have been detained and interrogated in the custody of the Criminal Investigation Department since February 15.</p>]]\n"
     ]
    }
   ],
   "source": [
    "#Loop to go over all pages\n",
    "pages = np.arange(1)\n",
    "data=[]\n",
    "\n",
    "for page in pages:\n",
    "    \n",
    "    page=link1 + str(page) \n",
    "    driver = webdriver.Chrome()\n",
    "    driver.get(page)  \n",
    "    sleep(randint(2,10))\n",
    "    soup = BeautifulSoup(driver.page_source, 'html.parser')\n",
    "    my_table = soup.find_all(['article'])\n",
    "\n",
    "    for item in my_table:\n",
    "        content = item(lambda tag: tag.name == 'p' and not tag.attrs)\n",
    "        data.append(content)\n",
    "        \n",
    "print(data)"
   ]
  },
  {
   "cell_type": "code",
   "execution_count": 9,
   "id": "2667eedd-497f-45e2-9672-f0031224fef0",
   "metadata": {},
   "outputs": [
    {
     "name": "stdout",
     "output_type": "stream",
     "text": [
      "<class 'list'>\n"
     ]
    }
   ],
   "source": [
    "print(type(data))"
   ]
  },
  {
   "cell_type": "code",
   "execution_count": 14,
   "id": "c8416d5c-2eac-4e69-a7d8-4bd1dfdd5ae3",
   "metadata": {},
   "outputs": [
    {
     "name": "stdout",
     "output_type": "stream",
     "text": [
      "Colombo Fort Magistrate Thilina Gamage granted permission to drug traffickers and organized criminals Nadun Chinthaka Wickramaratne alias “Harak Kata” and Salindu Malshika alias ‘Panadure Kudu Salindu’ who are detained in the Criminal Investigation Department to get food and drinks from a supermarket. The magistrate issued this order after considering a motion filed by the lawyers on behalf of the suspects Nandun Chinthaka and Salindu Malshaka before court.Court ordered that an officer nominated by the officer in charge of the place where the suspect is held, arrange to get the food and drinks. The Magistrate issued this order considering the request made by attorneys Sanjay Ariyadasa and Jaliya Samarasinghe, who appeared on behalf of the suspects, as the food provided by the Criminal Investigation Department is not sufficient for them. These two suspects, who are large-scale drug smugglers and organised criminals, were arrested by the Madagascar security forces and have been detained and interrogated in the custody of the Criminal Investigation Department since February 15.\n"
     ]
    }
   ],
   "source": [
    "flat_list = [str(item) for sublist in data for item in sublist]\n",
    "\n",
    "# Create a single string using join\n",
    "result_string = ' '.join(flat_list)\n",
    "\n",
    "# Parse the HTML string\n",
    "soup = BeautifulSoup(result_string, 'html.parser')\n",
    "\n",
    "# Get the text content without HTML tags\n",
    "text_without_tags = soup.get_text()\n",
    "\n",
    "print(text_without_tags)"
   ]
  },
  {
   "cell_type": "code",
   "execution_count": null,
   "id": "c0c4b371-f60e-46bc-8c55-3082fafe427c",
   "metadata": {},
   "outputs": [],
   "source": []
  }
 ],
 "metadata": {
  "kernelspec": {
   "display_name": "Python 3 (ipykernel)",
   "language": "python",
   "name": "python3"
  },
  "language_info": {
   "codemirror_mode": {
    "name": "ipython",
    "version": 3
   },
   "file_extension": ".py",
   "mimetype": "text/x-python",
   "name": "python",
   "nbconvert_exporter": "python",
   "pygments_lexer": "ipython3",
   "version": "3.11.0"
  }
 },
 "nbformat": 4,
 "nbformat_minor": 5
}
